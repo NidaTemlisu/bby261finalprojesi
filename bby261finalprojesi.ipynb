{
  "nbformat": 4,
  "nbformat_minor": 0,
  "metadata": {
    "colab": {
      "provenance": [],
      "authorship_tag": "ABX9TyMPdu/G+dKkR74xMpbeXshH",
      "include_colab_link": true
    },
    "kernelspec": {
      "name": "python3",
      "display_name": "Python 3"
    },
    "language_info": {
      "name": "python"
    }
  },
  "cells": [
    {
      "cell_type": "markdown",
      "metadata": {
        "id": "view-in-github",
        "colab_type": "text"
      },
      "source": [
        "<a href=\"https://colab.research.google.com/github/NidaTemlisu/bby261finalprojesi/blob/main/bby261finalprojesi.ipynb\" target=\"_parent\"><img src=\"https://colab.research.google.com/assets/colab-badge.svg\" alt=\"Open In Colab\"/></a>"
      ]
    },
    {
      "cell_type": "code",
      "source": [
        "import pandas as pd\n",
        "import requests\n",
        "from bs4 import BeautifulSoup\n",
        "\n",
        "# Google Haritalar'dan sağlık merkezi verilerini çekme\n",
        "def scrape_health_centers():\n",
        "    url = 'https://www.google.com/maps/place/Deva+Park+T%C4%B1p+Merkezi/@40.2157321,32.8907314,12z/data=!4m12!1m2!2m1!1zc2HEn2zEsWsgbWVya2V6aQ!3m8!1s0x4082169f0791ef39:0xfe4f0bf7d537fb0f!8m2!3d40.2157321!4d33.034927!9m1!1b1!15sChBzYcSfbMSxayBtZXJrZXppWhIiEHNhxJ9sxLFrIG1lcmtlemmSAQhob3NwaXRhbJoBI0NoWkRTVWhOTUc5blMwVkpRMEZuU1VSVmJuRlRja3hSRUFF4AEA!16s%2Fg%2F11dftpky57?entry=ttu/'\n",
        "    response = requests.get(url)\n",
        "    soup = BeautifulSoup(response.text, 'html.parser')\n",
        "\n",
        "    # Sayfadan gerekli bilgileri çekme işlemleri buraya eklenecek\n",
        "    # Örneğin: sağlık merkezi adı, değerlendirme puanı, adres gibi bilgiler\n",
        "\n",
        "    # Örnek veri kullanılarak DataFrame oluşturuluyor\n",
        "    data = {\n",
        "        'Sağlık Merkezi Adı': ['DEVA PARK Tıp Merkezi', 'AKSANDIK Ankara Bölge Sağlık Merkezi', 'Bahçelievler Aile Sağlığı Merkezi','Çankaya 7 No lu Aile Sağlığı Merkezi','Çankaya Ehlibeyt Aile Sağlık Merkezi','SOKULLU MEHMET PAŞA AİLE SAĞLIĞI MERKEZİ'],\n",
        "        'Değerlendirme Puanı': [3.9, 5.0, 2.9, 2.2, 3.4, 2.4],\n",
        "        'Adres': ['Yıldırım Beyazıt, Ankara Blv. No:2 No:137, 06760 Çubuk/Ankara', 'Anafartalar, Yurt Sk. No:10, 06050 Altındağ/Ankara', 'Bahçelievler, Taşkent Cd., 06490 Çankaya/Ankara','Balgat, Ziyabey Cd., 06520 Çankaya/Ankara','Cevizlidere, 1230. Sk., 06520 Çankaya/Ankara','Şehit Cevdet Özdemir, 1346. Sk. No:1, 06460 Çankaya/Ankara']\n",
        "    }\n",
        "\n",
        "    df = pd.DataFrame(data)\n",
        "    return df\n",
        "\n",
        "# Sağlık merkezi verilerini filtreleyip gösterme\n",
        "def filter_and_display(df, min_rating):\n",
        "    filtered_data = df[df['Değerlendirme Puanı'] > min_rating]\n",
        "    return filtered_data\n",
        "\n",
        "# Sağlık merkezi verilerini çekme\n",
        "health_centers_df = scrape_health_centers()\n",
        "\n",
        "# Kullanıcıdan filtreleme kriterini alınması\n",
        "min_rating = float(input(\"Değerlendirme puanı filtresi (örneğin 4.0): \"))\n",
        "\n",
        "# Verileri filtreleyip gösterme\n",
        "filtered_data = filter_and_display(health_centers_df, min_rating)\n",
        "print(filtered_data)"
      ],
      "metadata": {
        "colab": {
          "base_uri": "https://localhost:8080/"
        },
        "id": "If9zLV6z_lPc",
        "outputId": "0030d0df-83a8-4df7-d3c0-0d8cad124a5a"
      },
      "execution_count": 7,
      "outputs": [
        {
          "output_type": "stream",
          "name": "stdout",
          "text": [
            "Değerlendirme puanı filtresi (örneğin 4.0): 4.0\n",
            "                     Sağlık Merkezi Adı  Değerlendirme Puanı  \\\n",
            "1  AKSANDIK Ankara Bölge Sağlık Merkezi                  5.0   \n",
            "\n",
            "                                               Adres  \n",
            "1  Anafartalar, Yurt Sk. No:10, 06050 Altındağ/An...  \n"
          ]
        }
      ]
    }
  ]
}